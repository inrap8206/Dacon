{
  "nbformat": 4,
  "nbformat_minor": 0,
  "metadata": {
    "colab": {
      "name": "[데이콘]iris.ipynb",
      "provenance": [],
      "collapsed_sections": [],
      "toc_visible": true,
      "authorship_tag": "ABX9TyO1Z7o6gpw0DykdVvy1kqh9",
      "include_colab_link": true
    },
    "kernelspec": {
      "name": "python3",
      "display_name": "Python 3"
    },
    "language_info": {
      "name": "python"
    }
  },
  "cells": [
    {
      "cell_type": "markdown",
      "metadata": {
        "id": "view-in-github",
        "colab_type": "text"
      },
      "source": [
        "<a href=\"https://colab.research.google.com/github/inrap8206/Dacon/blob/main/%5B%EB%8D%B0%EC%9D%B4%EC%BD%98%5Diris.ipynb\" target=\"_parent\"><img src=\"https://colab.research.google.com/assets/colab-badge.svg\" alt=\"Open In Colab\"/></a>"
      ]
    },
    {
      "cell_type": "code",
      "metadata": {
        "id": "HqD3OPHgRRTy"
      },
      "source": [
        "!pip install catboost"
      ],
      "execution_count": null,
      "outputs": []
    },
    {
      "cell_type": "markdown",
      "metadata": {
        "id": "oPKN44HDnvF2"
      },
      "source": [
        "# Data Load"
      ]
    },
    {
      "cell_type": "code",
      "metadata": {
        "colab": {
          "base_uri": "https://localhost:8080/",
          "height": 224
        },
        "id": "d6AYG8xCRK9N",
        "outputId": "2b546173-e475-4e81-ed62-ccc4b4be8724"
      },
      "source": [
        "import pandas as pd\n",
        "from google.colab import drive, files\n",
        "drive.mount('/content/drive')\n",
        "import numpy as np\n",
        "import re\n",
        "import sklearn\n",
        "import xgboost as xgb\n",
        "import seaborn as sns\n",
        "import matplotlib.pyplot as plt\n",
        "%matplotlib inline\n",
        "\n",
        "import plotly.offline as py\n",
        "py.init_notebook_mode(connected=True)\n",
        "import plotly.graph_objs as go\n",
        "import plotly.tools as tls\n",
        "from sklearn.ensemble import RandomForestClassifier, AdaBoostClassifier, GradientBoostingClassifier, ExtraTreesClassifier\n",
        "from sklearn.svm import SVC\n",
        "from sklearn.model_selection import KFold\n",
        "\n",
        "\n",
        "train = pd.read_csv('./drive/My Drive/Colab Notebooks/dacon/iris/train.csv')\n",
        "test = pd.read_csv('./drive/My Drive/Colab Notebooks/dacon/iris/test.csv')\n",
        "sub = pd.read_csv('./drive/My Drive/Colab Notebooks/dacon/iris/sample_submission.csv')\n",
        "species_dic = {'setosa':1, 'versicolor':2, 'virginica':3}\n",
        "train['species'] = train['species'].map(species_dic)\n",
        "test['species'] = test['species'].map(species_dic)\n",
        "train['sep/pet'] = train['sepal length (cm)']/train['petal length (cm)']\n",
        "train.head()"
      ],
      "execution_count": null,
      "outputs": [
        {
          "output_type": "stream",
          "name": "stdout",
          "text": [
            "Drive already mounted at /content/drive; to attempt to forcibly remount, call drive.mount(\"/content/drive\", force_remount=True).\n"
          ]
        },
        {
          "output_type": "display_data",
          "data": {
            "text/html": [
              "        <script type=\"text/javascript\">\n",
              "        window.PlotlyConfig = {MathJaxConfig: 'local'};\n",
              "        if (window.MathJax) {MathJax.Hub.Config({SVG: {font: \"STIX-Web\"}});}\n",
              "        if (typeof require !== 'undefined') {\n",
              "        require.undef(\"plotly\");\n",
              "        requirejs.config({\n",
              "            paths: {\n",
              "                'plotly': ['https://cdn.plot.ly/plotly-latest.min']\n",
              "            }\n",
              "        });\n",
              "        require(['plotly'], function(Plotly) {\n",
              "            window._Plotly = Plotly;\n",
              "        });\n",
              "        }\n",
              "        </script>\n",
              "        "
            ]
          },
          "metadata": {}
        },
        {
          "output_type": "execute_result",
          "data": {
            "text/html": [
              "<div>\n",
              "<style scoped>\n",
              "    .dataframe tbody tr th:only-of-type {\n",
              "        vertical-align: middle;\n",
              "    }\n",
              "\n",
              "    .dataframe tbody tr th {\n",
              "        vertical-align: top;\n",
              "    }\n",
              "\n",
              "    .dataframe thead th {\n",
              "        text-align: right;\n",
              "    }\n",
              "</style>\n",
              "<table border=\"1\" class=\"dataframe\">\n",
              "  <thead>\n",
              "    <tr style=\"text-align: right;\">\n",
              "      <th></th>\n",
              "      <th>id</th>\n",
              "      <th>species</th>\n",
              "      <th>sepal length (cm)</th>\n",
              "      <th>petal length (cm)</th>\n",
              "      <th>sepal width (cm)</th>\n",
              "      <th>petal width (cm)</th>\n",
              "      <th>sep/pet</th>\n",
              "    </tr>\n",
              "  </thead>\n",
              "  <tbody>\n",
              "    <tr>\n",
              "      <th>0</th>\n",
              "      <td>0</td>\n",
              "      <td>1</td>\n",
              "      <td>4.4</td>\n",
              "      <td>1.4</td>\n",
              "      <td>2.9</td>\n",
              "      <td>0.2</td>\n",
              "      <td>3.142857</td>\n",
              "    </tr>\n",
              "    <tr>\n",
              "      <th>1</th>\n",
              "      <td>1</td>\n",
              "      <td>2</td>\n",
              "      <td>6.4</td>\n",
              "      <td>4.5</td>\n",
              "      <td>3.2</td>\n",
              "      <td>1.5</td>\n",
              "      <td>1.422222</td>\n",
              "    </tr>\n",
              "    <tr>\n",
              "      <th>2</th>\n",
              "      <td>2</td>\n",
              "      <td>3</td>\n",
              "      <td>6.2</td>\n",
              "      <td>4.8</td>\n",
              "      <td>2.8</td>\n",
              "      <td>1.8</td>\n",
              "      <td>1.291667</td>\n",
              "    </tr>\n",
              "    <tr>\n",
              "      <th>3</th>\n",
              "      <td>3</td>\n",
              "      <td>3</td>\n",
              "      <td>7.2</td>\n",
              "      <td>6.1</td>\n",
              "      <td>3.6</td>\n",
              "      <td>2.5</td>\n",
              "      <td>1.180328</td>\n",
              "    </tr>\n",
              "    <tr>\n",
              "      <th>4</th>\n",
              "      <td>4</td>\n",
              "      <td>1</td>\n",
              "      <td>4.9</td>\n",
              "      <td>1.4</td>\n",
              "      <td>3.0</td>\n",
              "      <td>0.2</td>\n",
              "      <td>3.500000</td>\n",
              "    </tr>\n",
              "  </tbody>\n",
              "</table>\n",
              "</div>"
            ],
            "text/plain": [
              "   id  species  sepal length (cm)  ...  sepal width (cm)  petal width (cm)   sep/pet\n",
              "0   0        1                4.4  ...               2.9               0.2  3.142857\n",
              "1   1        2                6.4  ...               3.2               1.5  1.422222\n",
              "2   2        3                6.2  ...               2.8               1.8  1.291667\n",
              "3   3        3                7.2  ...               3.6               2.5  1.180328\n",
              "4   4        1                4.9  ...               3.0               0.2  3.500000\n",
              "\n",
              "[5 rows x 7 columns]"
            ]
          },
          "metadata": {},
          "execution_count": 144
        }
      ]
    },
    {
      "cell_type": "markdown",
      "metadata": {
        "id": "Rx_aaefHntK9"
      },
      "source": [
        "# Model Selection"
      ]
    },
    {
      "cell_type": "markdown",
      "metadata": {
        "id": "KeJtGLMSnw_U"
      },
      "source": [
        "## sepal width"
      ]
    },
    {
      "cell_type": "code",
      "metadata": {
        "colab": {
          "base_uri": "https://localhost:8080/",
          "height": 544
        },
        "id": "gMVVOAc0RW_g",
        "outputId": "6e1f3647-d0b4-4a57-c9f7-add9015a1b96"
      },
      "source": [
        "from sklearn.linear_model import LinearRegression \n",
        "from sklearn.ensemble import RandomForestRegressor, GradientBoostingRegressor, AdaBoostRegressor\n",
        "from sklearn.svm import SVR\n",
        "from sklearn.neighbors import KNeighborsRegressor\n",
        "from sklearn.tree import DecisionTreeRegressor\n",
        "from xgboost import XGBRegressor\n",
        "from lightgbm import LGBMRegressor\n",
        "from catboost import CatBoostRegressor\n",
        "from sklearn.model_selection import cross_val_score, KFold\n",
        "from sklearn.metrics import mean_absolute_error\n",
        "\n",
        "model_list = [LinearRegression(), GradientBoostingRegressor(), AdaBoostRegressor(), RandomForestRegressor(), SVR(), KNeighborsRegressor(), DecisionTreeRegressor(), XGBRegressor(), LGBMRegressor(),\n",
        "              CatBoostRegressor(verbose=0)]\n",
        "scores = []\n",
        "\n",
        "\n",
        "X_train1 = train[['species', 'sepal length (cm)', 'petal length (cm)']]\n",
        "X_test1 = test[['species', 'sepal length (cm)', 'petal length (cm)']]\n",
        "y_train1 = train['sepal width (cm)']\n",
        "\n",
        "for model in model_list:\n",
        "  score = -1*cross_val_score(model, X_train1, y_train1, cv=10, scoring='neg_mean_absolute_error')\n",
        "  scores.append(score.mean())\n",
        "\n",
        "\n",
        "model_test = pd.DataFrame({'model':model_list, 'score':scores})\n",
        "model_test.sort_values('score')"
      ],
      "execution_count": null,
      "outputs": [
        {
          "output_type": "stream",
          "name": "stdout",
          "text": [
            "[01:16:52] WARNING: /workspace/src/objective/regression_obj.cu:152: reg:linear is now deprecated in favor of reg:squarederror.\n",
            "[01:16:52] WARNING: /workspace/src/objective/regression_obj.cu:152: reg:linear is now deprecated in favor of reg:squarederror.\n",
            "[01:16:52] WARNING: /workspace/src/objective/regression_obj.cu:152: reg:linear is now deprecated in favor of reg:squarederror.\n",
            "[01:16:52] WARNING: /workspace/src/objective/regression_obj.cu:152: reg:linear is now deprecated in favor of reg:squarederror.\n",
            "[01:16:52] WARNING: /workspace/src/objective/regression_obj.cu:152: reg:linear is now deprecated in favor of reg:squarederror.\n",
            "[01:16:52] WARNING: /workspace/src/objective/regression_obj.cu:152: reg:linear is now deprecated in favor of reg:squarederror.\n",
            "[01:16:52] WARNING: /workspace/src/objective/regression_obj.cu:152: reg:linear is now deprecated in favor of reg:squarederror.\n",
            "[01:16:52] WARNING: /workspace/src/objective/regression_obj.cu:152: reg:linear is now deprecated in favor of reg:squarederror.\n",
            "[01:16:52] WARNING: /workspace/src/objective/regression_obj.cu:152: reg:linear is now deprecated in favor of reg:squarederror.\n",
            "[01:16:52] WARNING: /workspace/src/objective/regression_obj.cu:152: reg:linear is now deprecated in favor of reg:squarederror.\n"
          ]
        },
        {
          "output_type": "execute_result",
          "data": {
            "text/html": [
              "<div>\n",
              "<style scoped>\n",
              "    .dataframe tbody tr th:only-of-type {\n",
              "        vertical-align: middle;\n",
              "    }\n",
              "\n",
              "    .dataframe tbody tr th {\n",
              "        vertical-align: top;\n",
              "    }\n",
              "\n",
              "    .dataframe thead th {\n",
              "        text-align: right;\n",
              "    }\n",
              "</style>\n",
              "<table border=\"1\" class=\"dataframe\">\n",
              "  <thead>\n",
              "    <tr style=\"text-align: right;\">\n",
              "      <th></th>\n",
              "      <th>model</th>\n",
              "      <th>score</th>\n",
              "    </tr>\n",
              "  </thead>\n",
              "  <tbody>\n",
              "    <tr>\n",
              "      <th>4</th>\n",
              "      <td>SVR()</td>\n",
              "      <td>0.231335</td>\n",
              "    </tr>\n",
              "    <tr>\n",
              "      <th>2</th>\n",
              "      <td>AdaBoostRegressor()</td>\n",
              "      <td>0.249037</td>\n",
              "    </tr>\n",
              "    <tr>\n",
              "      <th>5</th>\n",
              "      <td>KNeighborsRegressor()</td>\n",
              "      <td>0.250107</td>\n",
              "    </tr>\n",
              "    <tr>\n",
              "      <th>0</th>\n",
              "      <td>LinearRegression()</td>\n",
              "      <td>0.255909</td>\n",
              "    </tr>\n",
              "    <tr>\n",
              "      <th>3</th>\n",
              "      <td>RandomForestRegressor()</td>\n",
              "      <td>0.267562</td>\n",
              "    </tr>\n",
              "    <tr>\n",
              "      <th>7</th>\n",
              "      <td>XGBRegressor()</td>\n",
              "      <td>0.285017</td>\n",
              "    </tr>\n",
              "    <tr>\n",
              "      <th>9</th>\n",
              "      <td>&lt;catboost.core.CatBoostRegressor object at 0x7...</td>\n",
              "      <td>0.287465</td>\n",
              "    </tr>\n",
              "    <tr>\n",
              "      <th>1</th>\n",
              "      <td>GradientBoostingRegressor()</td>\n",
              "      <td>0.292091</td>\n",
              "    </tr>\n",
              "    <tr>\n",
              "      <th>8</th>\n",
              "      <td>LGBMRegressor()</td>\n",
              "      <td>0.301948</td>\n",
              "    </tr>\n",
              "    <tr>\n",
              "      <th>6</th>\n",
              "      <td>DecisionTreeRegressor()</td>\n",
              "      <td>0.355089</td>\n",
              "    </tr>\n",
              "  </tbody>\n",
              "</table>\n",
              "</div>"
            ],
            "text/plain": [
              "                                               model     score\n",
              "4                                              SVR()  0.231335\n",
              "2                                AdaBoostRegressor()  0.249037\n",
              "5                              KNeighborsRegressor()  0.250107\n",
              "0                                 LinearRegression()  0.255909\n",
              "3                            RandomForestRegressor()  0.267562\n",
              "7                                     XGBRegressor()  0.285017\n",
              "9  <catboost.core.CatBoostRegressor object at 0x7...  0.287465\n",
              "1                        GradientBoostingRegressor()  0.292091\n",
              "8                                    LGBMRegressor()  0.301948\n",
              "6                            DecisionTreeRegressor()  0.355089"
            ]
          },
          "metadata": {},
          "execution_count": 3
        }
      ]
    },
    {
      "cell_type": "markdown",
      "metadata": {
        "id": "VRRSz2jdn1Jd"
      },
      "source": [
        "## petal width"
      ]
    },
    {
      "cell_type": "code",
      "metadata": {
        "colab": {
          "base_uri": "https://localhost:8080/",
          "height": 544
        },
        "id": "q8Bo1a5eSHle",
        "outputId": "dd929df2-2c53-45dd-ddd4-e99accce8ef7"
      },
      "source": [
        "from sklearn.linear_model import LinearRegression \n",
        "from sklearn.ensemble import RandomForestRegressor, GradientBoostingRegressor, AdaBoostRegressor\n",
        "from sklearn.svm import SVR\n",
        "from sklearn.neighbors import KNeighborsRegressor\n",
        "from sklearn.tree import DecisionTreeRegressor\n",
        "from xgboost import XGBRegressor\n",
        "from lightgbm import LGBMRegressor\n",
        "from catboost import CatBoostRegressor\n",
        "from sklearn.model_selection import cross_val_score, KFold\n",
        "from sklearn.metrics import mean_absolute_error\n",
        "\n",
        "model_list = [LinearRegression(), GradientBoostingRegressor(), AdaBoostRegressor(), RandomForestRegressor(), SVR(), KNeighborsRegressor(), DecisionTreeRegressor(), XGBRegressor(), LGBMRegressor(),\n",
        "              CatBoostRegressor(verbose=0)]\n",
        "scores = []\n",
        "\n",
        "\n",
        "X_train2 = train[['species', 'sepal length (cm)', 'petal length (cm)']]\n",
        "X_test2 = test[['species', 'sepal length (cm)', 'petal length (cm)']]\n",
        "y_train2 = train['petal width (cm)']\n",
        "\n",
        "for model in model_list:\n",
        "  score = -1*cross_val_score(model, X_train2, y_train2, cv=10, scoring='neg_mean_absolute_error')\n",
        "  scores.append(score.mean())\n",
        "\n",
        "\n",
        "model_test = pd.DataFrame({'model':model_list, 'score':scores})\n",
        "model_test.sort_values('score')"
      ],
      "execution_count": null,
      "outputs": [
        {
          "output_type": "stream",
          "name": "stdout",
          "text": [
            "[01:17:06] WARNING: /workspace/src/objective/regression_obj.cu:152: reg:linear is now deprecated in favor of reg:squarederror.\n",
            "[01:17:06] WARNING: /workspace/src/objective/regression_obj.cu:152: reg:linear is now deprecated in favor of reg:squarederror.\n",
            "[01:17:06] WARNING: /workspace/src/objective/regression_obj.cu:152: reg:linear is now deprecated in favor of reg:squarederror.\n",
            "[01:17:06] WARNING: /workspace/src/objective/regression_obj.cu:152: reg:linear is now deprecated in favor of reg:squarederror.\n",
            "[01:17:06] WARNING: /workspace/src/objective/regression_obj.cu:152: reg:linear is now deprecated in favor of reg:squarederror.\n",
            "[01:17:06] WARNING: /workspace/src/objective/regression_obj.cu:152: reg:linear is now deprecated in favor of reg:squarederror.\n",
            "[01:17:06] WARNING: /workspace/src/objective/regression_obj.cu:152: reg:linear is now deprecated in favor of reg:squarederror.\n",
            "[01:17:06] WARNING: /workspace/src/objective/regression_obj.cu:152: reg:linear is now deprecated in favor of reg:squarederror.\n",
            "[01:17:06] WARNING: /workspace/src/objective/regression_obj.cu:152: reg:linear is now deprecated in favor of reg:squarederror.\n",
            "[01:17:06] WARNING: /workspace/src/objective/regression_obj.cu:152: reg:linear is now deprecated in favor of reg:squarederror.\n"
          ]
        },
        {
          "output_type": "execute_result",
          "data": {
            "text/html": [
              "<div>\n",
              "<style scoped>\n",
              "    .dataframe tbody tr th:only-of-type {\n",
              "        vertical-align: middle;\n",
              "    }\n",
              "\n",
              "    .dataframe tbody tr th {\n",
              "        vertical-align: top;\n",
              "    }\n",
              "\n",
              "    .dataframe thead th {\n",
              "        text-align: right;\n",
              "    }\n",
              "</style>\n",
              "<table border=\"1\" class=\"dataframe\">\n",
              "  <thead>\n",
              "    <tr style=\"text-align: right;\">\n",
              "      <th></th>\n",
              "      <th>model</th>\n",
              "      <th>score</th>\n",
              "    </tr>\n",
              "  </thead>\n",
              "  <tbody>\n",
              "    <tr>\n",
              "      <th>0</th>\n",
              "      <td>LinearRegression()</td>\n",
              "      <td>0.142033</td>\n",
              "    </tr>\n",
              "    <tr>\n",
              "      <th>4</th>\n",
              "      <td>SVR()</td>\n",
              "      <td>0.143834</td>\n",
              "    </tr>\n",
              "    <tr>\n",
              "      <th>5</th>\n",
              "      <td>KNeighborsRegressor()</td>\n",
              "      <td>0.159250</td>\n",
              "    </tr>\n",
              "    <tr>\n",
              "      <th>2</th>\n",
              "      <td>AdaBoostRegressor()</td>\n",
              "      <td>0.162903</td>\n",
              "    </tr>\n",
              "    <tr>\n",
              "      <th>3</th>\n",
              "      <td>RandomForestRegressor()</td>\n",
              "      <td>0.178103</td>\n",
              "    </tr>\n",
              "    <tr>\n",
              "      <th>9</th>\n",
              "      <td>&lt;catboost.core.CatBoostRegressor object at 0x7...</td>\n",
              "      <td>0.179191</td>\n",
              "    </tr>\n",
              "    <tr>\n",
              "      <th>7</th>\n",
              "      <td>XGBRegressor()</td>\n",
              "      <td>0.179749</td>\n",
              "    </tr>\n",
              "    <tr>\n",
              "      <th>1</th>\n",
              "      <td>GradientBoostingRegressor()</td>\n",
              "      <td>0.181355</td>\n",
              "    </tr>\n",
              "    <tr>\n",
              "      <th>6</th>\n",
              "      <td>DecisionTreeRegressor()</td>\n",
              "      <td>0.212054</td>\n",
              "    </tr>\n",
              "    <tr>\n",
              "      <th>8</th>\n",
              "      <td>LGBMRegressor()</td>\n",
              "      <td>0.268258</td>\n",
              "    </tr>\n",
              "  </tbody>\n",
              "</table>\n",
              "</div>"
            ],
            "text/plain": [
              "                                               model     score\n",
              "0                                 LinearRegression()  0.142033\n",
              "4                                              SVR()  0.143834\n",
              "5                              KNeighborsRegressor()  0.159250\n",
              "2                                AdaBoostRegressor()  0.162903\n",
              "3                            RandomForestRegressor()  0.178103\n",
              "9  <catboost.core.CatBoostRegressor object at 0x7...  0.179191\n",
              "7                                     XGBRegressor()  0.179749\n",
              "1                        GradientBoostingRegressor()  0.181355\n",
              "6                            DecisionTreeRegressor()  0.212054\n",
              "8                                    LGBMRegressor()  0.268258"
            ]
          },
          "metadata": {},
          "execution_count": 4
        }
      ]
    },
    {
      "cell_type": "markdown",
      "metadata": {
        "id": "slrNavM8oKK7"
      },
      "source": [
        "# Hyper parameter tunning"
      ]
    },
    {
      "cell_type": "code",
      "metadata": {
        "id": "GSNOiUBTpkAA"
      },
      "source": [
        "!pip install optuna"
      ],
      "execution_count": null,
      "outputs": []
    },
    {
      "cell_type": "markdown",
      "metadata": {
        "id": "PJsrWhcKoep7"
      },
      "source": [
        "## sepal width\n",
        "- SVR, AdaBoostRegressor, KNeighborsRegressor 3개 모델에 대해 최적의 매개변수 도출"
      ]
    },
    {
      "cell_type": "code",
      "metadata": {
        "colab": {
          "base_uri": "https://localhost:8080/"
        },
        "id": "CArAYfzKqIng",
        "outputId": "8c17ab38-4d62-4404-a9ad-716a3339a0a0"
      },
      "source": [
        "model =  SVR(\n",
        "    kernel = 'poly',\n",
        "    degree = 5,\n",
        "    gamma = 'scale',\n",
        "    coef0 = 0.2,\n",
        "    C = 0.8,\n",
        "    epsilon = 0.06,\n",
        "    shrinking = False,\n",
        "    )\n",
        "\n",
        "X_train1 = train[['species', 'sepal length (cm)', 'petal length (cm)']]\n",
        "X_test1 = test[['species', 'sepal length (cm)', 'petal length (cm)']]\n",
        "y_train1 = train['sepal width (cm)']\n",
        "\n",
        "score = -1*cross_val_score(model, X_train1, y_train1, cv=10, scoring='neg_mean_absolute_error')\n",
        "score.mean()\n"
      ],
      "execution_count": null,
      "outputs": [
        {
          "output_type": "execute_result",
          "data": {
            "text/plain": [
              "0.2147498526413505"
            ]
          },
          "metadata": {},
          "execution_count": 56
        }
      ]
    },
    {
      "cell_type": "code",
      "metadata": {
        "colab": {
          "base_uri": "https://localhost:8080/"
        },
        "id": "px2LlfhDujQ9",
        "outputId": "2ab85731-66d3-447f-d817-142c68b22c00"
      },
      "source": [
        "model =  AdaBoostRegressor(\n",
        "    n_estimators = 300,\n",
        "    learning_rate = 0.6,\n",
        "    )\n",
        "\n",
        "X_train1 = train[['species', 'sepal length (cm)', 'petal length (cm)']]\n",
        "X_test1 = test[['species', 'sepal length (cm)', 'petal length (cm)']]\n",
        "y_train1 = train['sepal width (cm)']\n",
        "\n",
        "score = -1*cross_val_score(model, X_train1, y_train1, cv=10, scoring='neg_mean_absolute_error')\n",
        "score.mean()"
      ],
      "execution_count": null,
      "outputs": [
        {
          "output_type": "execute_result",
          "data": {
            "text/plain": [
              "0.2467834316695135"
            ]
          },
          "metadata": {},
          "execution_count": 83
        }
      ]
    },
    {
      "cell_type": "code",
      "metadata": {
        "colab": {
          "base_uri": "https://localhost:8080/"
        },
        "id": "ky3keTqXv8GL",
        "outputId": "c02eb0ee-4b78-4190-b1ce-af8518eb72cf"
      },
      "source": [
        "model =  KNeighborsRegressor(\n",
        "    n_neighbors = 11,\n",
        "    leaf_size = 15,\n",
        "    )\n",
        "\n",
        "X_train1 = train[['species', 'sepal length (cm)', 'petal length (cm)']]\n",
        "X_test1 = test[['species', 'sepal length (cm)', 'petal length (cm)']]\n",
        "y_train1 = train['sepal width (cm)']\n",
        "\n",
        "score = -1*cross_val_score(model, X_train1, y_train1, cv=10, scoring='neg_mean_absolute_error')\n",
        "score.mean()"
      ],
      "execution_count": null,
      "outputs": [
        {
          "output_type": "execute_result",
          "data": {
            "text/plain": [
              "0.23073051948051954"
            ]
          },
          "metadata": {},
          "execution_count": 117
        }
      ]
    },
    {
      "cell_type": "markdown",
      "metadata": {
        "id": "-wbo4FzJo1ha"
      },
      "source": [
        "## petal width\n",
        "- LinearRegression, SVR, KNeighborsRegressor 3개 모델에 대해 최적의 매개변수 도출"
      ]
    },
    {
      "cell_type": "code",
      "metadata": {
        "id": "DO85GOA9SIJ4",
        "colab": {
          "base_uri": "https://localhost:8080/"
        },
        "outputId": "a2f6d0c4-c675-4167-97f1-689a21db7f6d"
      },
      "source": [
        "model =  LinearRegression()\n",
        "\n",
        "X_train2 = train[['species', 'sepal length (cm)', 'petal length (cm)']]\n",
        "X_test2 = test[['species', 'sepal length (cm)', 'petal length (cm)']]\n",
        "y_train2 = train['petal width (cm)']\n",
        "\n",
        "score = -1*cross_val_score(model, X_train2, y_train2, cv=10, scoring='neg_mean_absolute_error')\n",
        "score.mean()"
      ],
      "execution_count": null,
      "outputs": [
        {
          "output_type": "execute_result",
          "data": {
            "text/plain": [
              "0.1420331796678004"
            ]
          },
          "metadata": {},
          "execution_count": 145
        }
      ]
    },
    {
      "cell_type": "code",
      "metadata": {
        "id": "7p_a7saw-6u5",
        "colab": {
          "base_uri": "https://localhost:8080/"
        },
        "outputId": "d6c376eb-47ba-419e-c374-3775ac7c741e"
      },
      "source": [
        "model =  SVR(\n",
        "    C = 2.3,\n",
        "    epsilon = 0.02,\n",
        "    )\n",
        "\n",
        "X_train2 = train[['species', 'sepal length (cm)', 'petal length (cm)']]\n",
        "X_test2 = test[['species', 'sepal length (cm)', 'petal length (cm)']]\n",
        "y_train2 = train['petal width (cm)']\n",
        "\n",
        "score = -1*cross_val_score(model, X_train2, y_train2, cv=10, scoring='neg_mean_absolute_error')\n",
        "score.mean()"
      ],
      "execution_count": null,
      "outputs": [
        {
          "output_type": "execute_result",
          "data": {
            "text/plain": [
              "0.13718661065861276"
            ]
          },
          "metadata": {},
          "execution_count": 186
        }
      ]
    },
    {
      "cell_type": "code",
      "metadata": {
        "colab": {
          "base_uri": "https://localhost:8080/"
        },
        "id": "tVsU1Pikz4uO",
        "outputId": "bd5fe37a-233b-4bbd-876b-6d4ca8c48484"
      },
      "source": [
        "model =  KNeighborsRegressor(\n",
        "    n_neighbors = 11,\n",
        "    )\n",
        "\n",
        "X_train2 = train[['species', 'sepal length (cm)', 'petal length (cm)']]\n",
        "X_test2 = test[['species', 'sepal length (cm)', 'petal length (cm)']]\n",
        "y_train2 = train['petal width (cm)']\n",
        "\n",
        "score = -1*cross_val_score(model, X_train2, y_train2, cv=10, scoring='neg_mean_absolute_error')\n",
        "score.mean()"
      ],
      "execution_count": null,
      "outputs": [
        {
          "output_type": "execute_result",
          "data": {
            "text/plain": [
              "0.15222402597402598"
            ]
          },
          "metadata": {},
          "execution_count": 201
        }
      ]
    },
    {
      "cell_type": "code",
      "metadata": {
        "id": "EtdjBpy6Be26"
      },
      "source": [
        "0.15222402597402598"
      ],
      "execution_count": null,
      "outputs": []
    },
    {
      "cell_type": "markdown",
      "metadata": {
        "id": "SPL5JYgV0Vtu"
      },
      "source": [
        "# Final modeling & submission"
      ]
    },
    {
      "cell_type": "code",
      "metadata": {
        "id": "ze1lFR5X0Zdm"
      },
      "source": [
        "X_train1 = train[['species', 'sepal length (cm)', 'petal length (cm)']]\n",
        "X_test1 = test[['species', 'sepal length (cm)', 'petal length (cm)']]\n",
        "y_train1 = train['sepal width (cm)']\n",
        "\n",
        "X_train2 = train[['species', 'sepal length (cm)', 'petal length (cm)']]\n",
        "X_test2 = test[['species', 'sepal length (cm)', 'petal length (cm)']]\n",
        "y_train2 = train['petal width (cm)']\n",
        "\n",
        "\n",
        "sepal_model1 =  SVR(kernel = 'poly',degree = 5, gamma = 'scale', coef0 = 0.2, C = 0.8, epsilon = 0.06, shrinking = False)\n",
        "sepal_model2 =  KNeighborsRegressor(n_neighbors = 11, leaf_size = 15)\n",
        "sepal_model3 =  AdaBoostRegressor(n_estimators = 300, learning_rate = 0.6)\n",
        "\n",
        "\n",
        "petal_model1 =  SVR(C = 2.3, epsilon = 0.02)\n",
        "petal_model2 =  LinearRegression()\n",
        "petal_model3 =  KNeighborsRegressor(n_neighbors = 11)\n",
        "\n",
        "sepal_model_list = [sepal_model1, sepal_model2, sepal_model3]\n",
        "petal_model_list = [petal_model1, petal_model2, petal_model3]\n",
        "\n",
        "sepal_preds = []\n",
        "for model in sepal_model_list:\n",
        "  model.fit(X_train1, y_train1)\n",
        "  pred = model.predict(X_test1)\n",
        "  sepal_preds.append(pred)\n",
        "\n",
        "petal_preds = []\n",
        "for model in petal_model_list:\n",
        "  model.fit(X_train2, y_train2)\n",
        "  pred = model.predict(X_test2)\n",
        "  petal_preds.append(pred)"
      ],
      "execution_count": null,
      "outputs": []
    },
    {
      "cell_type": "code",
      "metadata": {
        "colab": {
          "base_uri": "https://localhost:8080/",
          "height": 17
        },
        "id": "zoHrYGmr2EDY",
        "outputId": "d0a48907-3c80-4516-ce77-e8e124a82655"
      },
      "source": [
        "sub['sepal width (cm)'] = (sepal_preds[0] + sepal_preds[1] + sepal_preds[2])/3\n",
        "sub['petal width (cm)'] = (petal_preds[0] + petal_preds[1] + petal_preds[2])/3\n",
        "sub.to_csv('iris_3ensemble.csv', index=False)\n",
        "files.download('iris_3ensemble.csv')"
      ],
      "execution_count": null,
      "outputs": [
        {
          "output_type": "display_data",
          "data": {
            "application/javascript": [
              "\n",
              "    async function download(id, filename, size) {\n",
              "      if (!google.colab.kernel.accessAllowed) {\n",
              "        return;\n",
              "      }\n",
              "      const div = document.createElement('div');\n",
              "      const label = document.createElement('label');\n",
              "      label.textContent = `Downloading \"${filename}\": `;\n",
              "      div.appendChild(label);\n",
              "      const progress = document.createElement('progress');\n",
              "      progress.max = size;\n",
              "      div.appendChild(progress);\n",
              "      document.body.appendChild(div);\n",
              "\n",
              "      const buffers = [];\n",
              "      let downloaded = 0;\n",
              "\n",
              "      const channel = await google.colab.kernel.comms.open(id);\n",
              "      // Send a message to notify the kernel that we're ready.\n",
              "      channel.send({})\n",
              "\n",
              "      for await (const message of channel.messages) {\n",
              "        // Send a message to notify the kernel that we're ready.\n",
              "        channel.send({})\n",
              "        if (message.buffers) {\n",
              "          for (const buffer of message.buffers) {\n",
              "            buffers.push(buffer);\n",
              "            downloaded += buffer.byteLength;\n",
              "            progress.value = downloaded;\n",
              "          }\n",
              "        }\n",
              "      }\n",
              "      const blob = new Blob(buffers, {type: 'application/binary'});\n",
              "      const a = document.createElement('a');\n",
              "      a.href = window.URL.createObjectURL(blob);\n",
              "      a.download = filename;\n",
              "      div.appendChild(a);\n",
              "      a.click();\n",
              "      div.remove();\n",
              "    }\n",
              "  "
            ],
            "text/plain": [
              "<IPython.core.display.Javascript object>"
            ]
          },
          "metadata": {}
        },
        {
          "output_type": "display_data",
          "data": {
            "application/javascript": [
              "download(\"download_cb6babc3-c426-4df8-86f1-4fd6271dfd4f\", \"iris_3ensemble.csv\", 3090)"
            ],
            "text/plain": [
              "<IPython.core.display.Javascript object>"
            ]
          },
          "metadata": {}
        }
      ]
    },
    {
      "cell_type": "code",
      "metadata": {
        "colab": {
          "base_uri": "https://localhost:8080/",
          "height": 17
        },
        "id": "p2bEfHiDADeX",
        "outputId": "8af0859e-1c8f-49f3-d5d0-fbf2caaf3a3b"
      },
      "source": [
        "sub['sepal width (cm)'] = (sepal_preds[0] + sepal_preds[1])/2\n",
        "sub['petal width (cm)'] = (petal_preds[0] + petal_preds[1])/2\n",
        "sub.to_csv('iris_2ensemble.csv', index=False)\n",
        "files.download('iris_2ensemble.csv')"
      ],
      "execution_count": null,
      "outputs": [
        {
          "output_type": "display_data",
          "data": {
            "application/javascript": [
              "\n",
              "    async function download(id, filename, size) {\n",
              "      if (!google.colab.kernel.accessAllowed) {\n",
              "        return;\n",
              "      }\n",
              "      const div = document.createElement('div');\n",
              "      const label = document.createElement('label');\n",
              "      label.textContent = `Downloading \"${filename}\": `;\n",
              "      div.appendChild(label);\n",
              "      const progress = document.createElement('progress');\n",
              "      progress.max = size;\n",
              "      div.appendChild(progress);\n",
              "      document.body.appendChild(div);\n",
              "\n",
              "      const buffers = [];\n",
              "      let downloaded = 0;\n",
              "\n",
              "      const channel = await google.colab.kernel.comms.open(id);\n",
              "      // Send a message to notify the kernel that we're ready.\n",
              "      channel.send({})\n",
              "\n",
              "      for await (const message of channel.messages) {\n",
              "        // Send a message to notify the kernel that we're ready.\n",
              "        channel.send({})\n",
              "        if (message.buffers) {\n",
              "          for (const buffer of message.buffers) {\n",
              "            buffers.push(buffer);\n",
              "            downloaded += buffer.byteLength;\n",
              "            progress.value = downloaded;\n",
              "          }\n",
              "        }\n",
              "      }\n",
              "      const blob = new Blob(buffers, {type: 'application/binary'});\n",
              "      const a = document.createElement('a');\n",
              "      a.href = window.URL.createObjectURL(blob);\n",
              "      a.download = filename;\n",
              "      div.appendChild(a);\n",
              "      a.click();\n",
              "      div.remove();\n",
              "    }\n",
              "  "
            ],
            "text/plain": [
              "<IPython.core.display.Javascript object>"
            ]
          },
          "metadata": {}
        },
        {
          "output_type": "display_data",
          "data": {
            "application/javascript": [
              "download(\"download_97534215-e72c-44d0-ab28-fa35491a798f\", \"iris_2ensemble.csv\", 3075)"
            ],
            "text/plain": [
              "<IPython.core.display.Javascript object>"
            ]
          },
          "metadata": {}
        }
      ]
    }
  ]
}