{
  "nbformat": 4,
  "nbformat_minor": 0,
  "metadata": {
    "colab": {
      "name": "[데이콘]와인품질분류.ipynb",
      "provenance": [],
      "collapsed_sections": [],
      "authorship_tag": "ABX9TyP8SMweouL+A2M4aLFkf/BH"
    },
    "kernelspec": {
      "name": "python3",
      "display_name": "Python 3"
    },
    "language_info": {
      "name": "python"
    }
  },
  "cells": [
    {
      "cell_type": "markdown",
      "metadata": {
        "id": "DuhiPFjIS4lJ"
      },
      "source": [
        "## [데이콘] 와인품질분류\n",
        "- https://dacon.io/competitions/open/235610/overview/description"
      ]
    },
    {
      "cell_type": "markdown",
      "metadata": {
        "id": "PaCGWqwPzWqr"
      },
      "source": [
        "# Baseline"
      ]
    },
    {
      "cell_type": "code",
      "metadata": {
        "colab": {
          "base_uri": "https://localhost:8080/",
          "height": 69
        },
        "id": "Zz2Lr9gMvYKZ",
        "outputId": "f3908cd5-4448-4c34-f5c2-6c5797dd49ab"
      },
      "source": [
        "import pandas as pd\n",
        "from google.colab import drive, files\n",
        "drive.mount('/content/drive')\n",
        "import warnings\n",
        "warnings.filterwarnings(action='ignore')\n",
        "from imblearn.over_sampling import SMOTE\n",
        "from imblearn.under_sampling import RandomUnderSampler\n",
        "\n",
        "train = pd.read_csv('./drive/My Drive/Colab Notebooks/빅분기 실기/연습_데이콘_와인품질분류/train.csv')\n",
        "test = pd.read_csv('./drive/My Drive/Colab Notebooks/빅분기 실기/연습_데이콘_와인품질분류/test.csv')\n",
        "sub = pd.read_csv('./drive/My Drive/Colab Notebooks/빅분기 실기/연습_데이콘_와인품질분류/sample_submission.csv')\n",
        "\n",
        "\n",
        "# 변주형 범수 처리\n",
        "train['type'] = train['type'].map(lambda x : 1 if x == 'white' else 0)\n",
        "test['type'] = test['type'].map(lambda x : 1 if x == 'white' else 0)\n",
        "\n",
        "# 불필요 컬럼 삭제\n",
        "label = train['quality']\n",
        "train.drop(['index', 'quality'], axis=1, inplace=True)\n",
        "test.drop('index', axis=1, inplace=True)\n",
        "\n",
        "\n",
        "# 피쳐 엔지니어링 (정제, 이상치처리, 파생변수 생성)\n",
        "from sklearn.preprocessing import StandardScaler\n",
        "sc = StandardScaler()\n",
        "\n",
        "train = sc.fit_transform(train)\n",
        "test = sc.transform(test)\n",
        "\n",
        "\n",
        "# 모델링\n",
        "from sklearn.ensemble import RandomForestClassifier, AdaBoostClassifier, GradientBoostingClassifier\n",
        "from sklearn.neural_network import MLPClassifier\n",
        "from sklearn.tree import DecisionTreeClassifier\n",
        "from sklearn.model_selection import cross_val_score\n",
        "\n",
        "model = RandomForestClassifier(random_state=2022, n_estimators=200)\n",
        "\n",
        "# 교차검증\n",
        "score = cross_val_score(model, train, label, cv=5, scoring='accuracy')\n",
        "\n",
        "print(score)\n",
        "print(score.mean())\n",
        "\n",
        "\n",
        "# 제출\n",
        "model.fit(train, label)\n",
        "preds = model.predict(test)\n",
        "sub.iloc[:,1] = preds\n",
        "sub.to_csv('wine.csv', index=False)\n",
        "files.download('wine.csv')"
      ],
      "execution_count": 57,
      "outputs": [
        {
          "output_type": "stream",
          "name": "stdout",
          "text": [
            "Drive already mounted at /content/drive; to attempt to forcibly remount, call drive.mount(\"/content/drive\", force_remount=True).\n",
            "[0.68363636 0.68727273 0.67060965 0.66606005 0.6633303 ]\n",
            "0.6741818181818182\n"
          ]
        },
        {
          "output_type": "display_data",
          "data": {
            "application/javascript": [
              "\n",
              "    async function download(id, filename, size) {\n",
              "      if (!google.colab.kernel.accessAllowed) {\n",
              "        return;\n",
              "      }\n",
              "      const div = document.createElement('div');\n",
              "      const label = document.createElement('label');\n",
              "      label.textContent = `Downloading \"${filename}\": `;\n",
              "      div.appendChild(label);\n",
              "      const progress = document.createElement('progress');\n",
              "      progress.max = size;\n",
              "      div.appendChild(progress);\n",
              "      document.body.appendChild(div);\n",
              "\n",
              "      const buffers = [];\n",
              "      let downloaded = 0;\n",
              "\n",
              "      const channel = await google.colab.kernel.comms.open(id);\n",
              "      // Send a message to notify the kernel that we're ready.\n",
              "      channel.send({})\n",
              "\n",
              "      for await (const message of channel.messages) {\n",
              "        // Send a message to notify the kernel that we're ready.\n",
              "        channel.send({})\n",
              "        if (message.buffers) {\n",
              "          for (const buffer of message.buffers) {\n",
              "            buffers.push(buffer);\n",
              "            downloaded += buffer.byteLength;\n",
              "            progress.value = downloaded;\n",
              "          }\n",
              "        }\n",
              "      }\n",
              "      const blob = new Blob(buffers, {type: 'application/binary'});\n",
              "      const a = document.createElement('a');\n",
              "      a.href = window.URL.createObjectURL(blob);\n",
              "      a.download = filename;\n",
              "      div.appendChild(a);\n",
              "      a.click();\n",
              "      div.remove();\n",
              "    }\n",
              "  "
            ],
            "text/plain": [
              "<IPython.core.display.Javascript object>"
            ]
          },
          "metadata": {}
        },
        {
          "output_type": "display_data",
          "data": {
            "application/javascript": [
              "download(\"download_bc99303f-b1c7-4aa3-8f02-d38c173b6f9b\", \"wine.csv\", 5904)"
            ],
            "text/plain": [
              "<IPython.core.display.Javascript object>"
            ]
          },
          "metadata": {}
        }
      ]
    },
    {
      "cell_type": "markdown",
      "metadata": {
        "id": "apVaeDSuwcd3"
      },
      "source": [
        "# Model Selection"
      ]
    },
    {
      "cell_type": "code",
      "metadata": {
        "colab": {
          "base_uri": "https://localhost:8080/"
        },
        "id": "6i5fKKbRv_vE",
        "outputId": "92df78c0-3494-4425-cefc-c957715ab342"
      },
      "source": [
        "!pip install catboost"
      ],
      "execution_count": 58,
      "outputs": [
        {
          "output_type": "stream",
          "name": "stdout",
          "text": [
            "Requirement already satisfied: catboost in /usr/local/lib/python3.7/dist-packages (0.26.1)\n",
            "Requirement already satisfied: pandas>=0.24.0 in /usr/local/lib/python3.7/dist-packages (from catboost) (1.1.5)\n",
            "Requirement already satisfied: scipy in /usr/local/lib/python3.7/dist-packages (from catboost) (1.4.1)\n",
            "Requirement already satisfied: six in /usr/local/lib/python3.7/dist-packages (from catboost) (1.15.0)\n",
            "Requirement already satisfied: matplotlib in /usr/local/lib/python3.7/dist-packages (from catboost) (3.2.2)\n",
            "Requirement already satisfied: numpy>=1.16.0 in /usr/local/lib/python3.7/dist-packages (from catboost) (1.19.5)\n",
            "Requirement already satisfied: graphviz in /usr/local/lib/python3.7/dist-packages (from catboost) (0.10.1)\n",
            "Requirement already satisfied: plotly in /usr/local/lib/python3.7/dist-packages (from catboost) (4.4.1)\n",
            "Requirement already satisfied: python-dateutil>=2.7.3 in /usr/local/lib/python3.7/dist-packages (from pandas>=0.24.0->catboost) (2.8.2)\n",
            "Requirement already satisfied: pytz>=2017.2 in /usr/local/lib/python3.7/dist-packages (from pandas>=0.24.0->catboost) (2018.9)\n",
            "Requirement already satisfied: kiwisolver>=1.0.1 in /usr/local/lib/python3.7/dist-packages (from matplotlib->catboost) (1.3.1)\n",
            "Requirement already satisfied: pyparsing!=2.0.4,!=2.1.2,!=2.1.6,>=2.0.1 in /usr/local/lib/python3.7/dist-packages (from matplotlib->catboost) (2.4.7)\n",
            "Requirement already satisfied: cycler>=0.10 in /usr/local/lib/python3.7/dist-packages (from matplotlib->catboost) (0.10.0)\n",
            "Requirement already satisfied: retrying>=1.3.3 in /usr/local/lib/python3.7/dist-packages (from plotly->catboost) (1.3.3)\n"
          ]
        }
      ]
    },
    {
      "cell_type": "code",
      "metadata": {
        "colab": {
          "base_uri": "https://localhost:8080/",
          "height": 293
        },
        "id": "QoOTGj3mwfuk",
        "outputId": "f8ad1901-8c3e-4aa0-f75c-c1b1d75390c7"
      },
      "source": [
        "from sklearn.linear_model import RidgeClassifier, LogisticRegression  \n",
        "from sklearn.ensemble import RandomForestClassifier, GradientBoostingClassifier, AdaBoostClassifier\n",
        "from xgboost import XGBClassifier\n",
        "from lightgbm import LGBMClassifier\n",
        "from catboost import CatBoostClassifier\n",
        "from sklearn.model_selection import cross_val_score, KFold\n",
        "from sklearn.metrics import accuracy_score\n",
        "\n",
        "model_list = [RidgeClassifier(), LogisticRegression(), RandomForestClassifier(random_state=2021), GradientBoostingClassifier(), AdaBoostClassifier(), XGBClassifier(), LGBMClassifier(), CatBoostClassifier(verbose=0)]\n",
        "scores = []\n",
        "\n",
        "for model in model_list:\n",
        "  score = cross_val_score(model, train, label, cv=5, scoring='accuracy')\n",
        "  scores.append(score.mean())\n",
        "\n",
        "\n",
        "model_test = pd.DataFrame({'model':model_list, 'score':scores})\n",
        "model_test.sort_values('score')"
      ],
      "execution_count": 59,
      "outputs": [
        {
          "output_type": "execute_result",
          "data": {
            "text/html": [
              "<div>\n",
              "<style scoped>\n",
              "    .dataframe tbody tr th:only-of-type {\n",
              "        vertical-align: middle;\n",
              "    }\n",
              "\n",
              "    .dataframe tbody tr th {\n",
              "        vertical-align: top;\n",
              "    }\n",
              "\n",
              "    .dataframe thead th {\n",
              "        text-align: right;\n",
              "    }\n",
              "</style>\n",
              "<table border=\"1\" class=\"dataframe\">\n",
              "  <thead>\n",
              "    <tr style=\"text-align: right;\">\n",
              "      <th></th>\n",
              "      <th>model</th>\n",
              "      <th>score</th>\n",
              "    </tr>\n",
              "  </thead>\n",
              "  <tbody>\n",
              "    <tr>\n",
              "      <th>4</th>\n",
              "      <td>AdaBoostClassifier(algorithm='SAMME.R', base_e...</td>\n",
              "      <td>0.402040</td>\n",
              "    </tr>\n",
              "    <tr>\n",
              "      <th>0</th>\n",
              "      <td>RidgeClassifier(alpha=1.0, class_weight=None, ...</td>\n",
              "      <td>0.531925</td>\n",
              "    </tr>\n",
              "    <tr>\n",
              "      <th>1</th>\n",
              "      <td>LogisticRegression(C=1.0, class_weight=None, d...</td>\n",
              "      <td>0.545205</td>\n",
              "    </tr>\n",
              "    <tr>\n",
              "      <th>5</th>\n",
              "      <td>XGBClassifier(base_score=0.5, booster='gbtree'...</td>\n",
              "      <td>0.578679</td>\n",
              "    </tr>\n",
              "    <tr>\n",
              "      <th>3</th>\n",
              "      <td>GradientBoostingClassifier(ccp_alpha=0.0, crit...</td>\n",
              "      <td>0.585773</td>\n",
              "    </tr>\n",
              "    <tr>\n",
              "      <th>6</th>\n",
              "      <td>LGBMClassifier(boosting_type='gbdt', class_wei...</td>\n",
              "      <td>0.633619</td>\n",
              "    </tr>\n",
              "    <tr>\n",
              "      <th>7</th>\n",
              "      <td>&lt;catboost.core.CatBoostClassifier object at 0x...</td>\n",
              "      <td>0.649624</td>\n",
              "    </tr>\n",
              "    <tr>\n",
              "      <th>2</th>\n",
              "      <td>RandomForestClassifier(bootstrap=True, ccp_alp...</td>\n",
              "      <td>0.675455</td>\n",
              "    </tr>\n",
              "  </tbody>\n",
              "</table>\n",
              "</div>"
            ],
            "text/plain": [
              "                                               model     score\n",
              "4  AdaBoostClassifier(algorithm='SAMME.R', base_e...  0.402040\n",
              "0  RidgeClassifier(alpha=1.0, class_weight=None, ...  0.531925\n",
              "1  LogisticRegression(C=1.0, class_weight=None, d...  0.545205\n",
              "5  XGBClassifier(base_score=0.5, booster='gbtree'...  0.578679\n",
              "3  GradientBoostingClassifier(ccp_alpha=0.0, crit...  0.585773\n",
              "6  LGBMClassifier(boosting_type='gbdt', class_wei...  0.633619\n",
              "7  <catboost.core.CatBoostClassifier object at 0x...  0.649624\n",
              "2  RandomForestClassifier(bootstrap=True, ccp_alp...  0.675455"
            ]
          },
          "metadata": {},
          "execution_count": 59
        }
      ]
    }
  ]
}